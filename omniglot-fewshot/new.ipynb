{
 "cells": [
  {
   "cell_type": "code",
   "execution_count": 1,
   "metadata": {},
   "outputs": [],
   "source": [
    "import torch\n",
    "import time\n",
    "from tqdm import tqdm\n",
    "from model.ProtoNet import ProtoNet\n",
    "from functions import read_images, extract_sample, extract_query\n"
   ]
  },
  {
   "cell_type": "code",
   "execution_count": 3,
   "metadata": {},
   "outputs": [
    {
     "name": "stdout",
     "output_type": "stream",
     "text": [
      "Reading images...\n",
      "Categories:\n",
      "['DoS Hulk', 'FTP-Patator', 'BENIGN', 'Infiltration', 'DoS GoldenEye', 'DoS slowloris', 'Web Attack � Sql Injection', 'Bot', 'Heartbleed', 'Web Attack � XSS', 'Web Attack � Brute Force', 'SSH-Patator', 'DDoS', 'DoS Slowhttptest', 'PortScan']\n",
      "0 | DoS Hulk\n",
      "1 | FTP-Patator\n",
      "2 | BENIGN\n",
      "3 | Infiltration\n",
      "4 | DoS GoldenEye\n",
      "5 | DoS slowloris\n",
      "6 | Bot\n",
      "7 | Web Attack � XSS\n",
      "8 | Web Attack � Brute Force\n",
      "9 | SSH-Patator\n",
      "10 | DDoS\n",
      "11 | DoS Slowhttptest\n",
      "12 | PortScan\n",
      "Is Cuda test:\n",
      "datax True\n",
      "datay True\n"
     ]
    }
   ],
   "source": [
    "n_support = 5\n",
    "n_query = 5\n",
    "print(\"Reading images...\")\n",
    "t1 = time.time()\n",
    "test_x, test_y = read_images(\n",
    "    \"/mnt/Documents/Major_Project/few_shot/IGTD-results-benign-downsampled-test/euclidean/data\",\n",
    "    n_support + n_query,\n",
    ")"
   ]
  },
  {
   "cell_type": "code",
   "execution_count": null,
   "metadata": {},
   "outputs": [],
   "source": [
    "n_way = len(test_y.unique())\n",
    "test_episode = 1000\n",
    "\n",
    "model = ProtoNet(\n",
    "    x_dim=(1, 9, 9),\n",
    "    hid_dim=16,\n",
    "    z_dim=256,\n",
    ").to(\"cuda:0\")\n",
    "\n",
    "model.load_state_dict(\n",
    "    torch.load(\n",
    "        \"/mnt/Documents/Major_Project/few_shot/Models/benign_downsampled_all_cat_euclidean/model_15\"\n",
    "    )\n",
    ")\n",
    "\n",
    "model.eval()\n",
    "\n"
   ]
  },
  {
   "cell_type": "code",
   "execution_count": 24,
   "metadata": {},
   "outputs": [
    {
     "name": "stdout",
     "output_type": "stream",
     "text": [
      "torch.Size([13, 5, 1, 9, 9]) ------\n",
      "torch.float32 torch.float32\n",
      "query: torch.Size([1, 1, 1, 9, 9])\n",
      "x_support: torch.Size([13, 5, 1, 9, 9])\n",
      "x_query: torch.Size([1, 1, 1, 9, 9])\n",
      "z: torch.Size([66, 50176])\n",
      "tensor([[4]], device='cuda:0') BENIGN\n"
     ]
    }
   ],
   "source": [
    "# test(model, test_x, test_y, n_way, n_support, n_query, test_episode)\n",
    "support = extract_sample(n_way, n_support, 0, test_x, test_y)\n",
    "print(support[\"sample\"].size(), \"------\")\n",
    "query, cat = extract_query(\"/mnt/Documents/Major_Project/few_shot/IGTD-results-benign-downsampled-test/euclidean/data\")\n",
    "print(support[\"sample\"].dtype, query.dtype)\n",
    "print(f\"query: {query.size()}\")\n",
    "y_hat = model.predict(support[\"sample\"], query, 13, 5, 1)\n",
    "print(y_hat, cat)\n",
    "\n"
   ]
  },
  {
   "cell_type": "code",
   "execution_count": null,
   "metadata": {},
   "outputs": [],
   "source": []
  },
  {
   "cell_type": "code",
   "execution_count": null,
   "metadata": {},
   "outputs": [],
   "source": []
  }
 ],
 "metadata": {
  "kernelspec": {
   "display_name": "Python 3.10.8 ('few-shot')",
   "language": "python",
   "name": "python3"
  },
  "language_info": {
   "codemirror_mode": {
    "name": "ipython",
    "version": 3
   },
   "file_extension": ".py",
   "mimetype": "text/x-python",
   "name": "python",
   "nbconvert_exporter": "python",
   "pygments_lexer": "ipython3",
   "version": "3.10.8 (main, Nov  4 2022, 13:48:29) [GCC 11.2.0]"
  },
  "orig_nbformat": 4,
  "vscode": {
   "interpreter": {
    "hash": "e06dc301350a0a593ee2609a35d56c1595e8de6a48966f6230e154845051b5ae"
   }
  }
 },
 "nbformat": 4,
 "nbformat_minor": 2
}
